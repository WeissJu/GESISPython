{
 "cells": [
  {
   "cell_type": "markdown",
   "metadata": {},
   "source": [
    "1. Create a string that has every letter of the alphabet, and save it a variable named \"aleph\""
   ]
  },
  {
   "cell_type": "code",
   "execution_count": null,
   "metadata": {},
   "outputs": [],
   "source": [
    "aleph = 'the quick brown fox jumps over the lazy dog.'"
   ]
  },
  {
   "cell_type": "markdown",
   "metadata": {},
   "source": [
    "2. What is the length of the aleph string?"
   ]
  },
  {
   "cell_type": "code",
   "execution_count": null,
   "metadata": {},
   "outputs": [],
   "source": [
    "len(aleph)"
   ]
  },
  {
   "cell_type": "markdown",
   "metadata": {},
   "source": [
    "3a. What is the first character?\n",
    "\n",
    "3b. Which character is in the middle index? (Hint: for even numbers use /, for odd numbers use //)"
   ]
  },
  {
   "cell_type": "code",
   "execution_count": null,
   "metadata": {},
   "outputs": [],
   "source": [
    "aleph[0]\n",
    "\n",
    "x = len(aleph)//2\n",
    "aleph[x]"
   ]
  },
  {
   "cell_type": "markdown",
   "metadata": {},
   "source": [
    "3c. Create a new string made of the middle three characters of the aleph string. Name it \"middle\""
   ]
  },
  {
   "cell_type": "code",
   "execution_count": null,
   "metadata": {},
   "outputs": [],
   "source": [
    "middle = aleph[x - 1:x + 2]\n",
    "print(middle)"
   ]
  },
  {
   "cell_type": "markdown",
   "metadata": {},
   "source": [
    "4a. Create a string with your name last name. Save it as \"name\".\n",
    "\n",
    "4b. Create another string with your middle name. Save it as \"middle\" (If you don't have one, make one up)\n",
    "\n",
    "4c. Find the index of the space between your first name and last name. Save that as idx.\n",
    "\n",
    "4d. Append your middle name in the write place of your first name string.\n",
    "Question: What is missing? How can we solve it?"
   ]
  },
  {
   "cell_type": "code",
   "execution_count": null,
   "metadata": {},
   "outputs": [],
   "source": [
    "name = 'James Jones'\n",
    "middle = 'Earl'\n",
    "\n",
    "idx = name.find(' ')\n",
    "\n",
    "name[:idx + 1] + middle + name[idx:]"
   ]
  },
  {
   "cell_type": "markdown",
   "metadata": {},
   "source": [
    "5a. Set all the letters to lower case in the text below.\n",
    "\n",
    "5b. Now set them all to upper case.\n",
    "\n",
    "5c. Find all the times the letter t occurs in the text."
   ]
  },
  {
   "cell_type": "code",
   "execution_count": null,
   "metadata": {},
   "outputs": [],
   "source": [
    "text = '''Good morning everyone!\n",
    "        Today is September 3, and this is...\n",
    "        the first time using a jupyter notebook for me :)\n",
    "        I hope it's going well <3.'''"
   ]
  },
  {
   "cell_type": "code",
   "execution_count": null,
   "metadata": {},
   "outputs": [],
   "source": [
    "text.lower()"
   ]
  },
  {
   "cell_type": "code",
   "execution_count": null,
   "metadata": {},
   "outputs": [],
   "source": [
    "text.upper()"
   ]
  },
  {
   "cell_type": "code",
   "execution_count": null,
   "metadata": {},
   "outputs": [],
   "source": [
    "text.lower().count('t')"
   ]
  },
  {
   "cell_type": "markdown",
   "metadata": {},
   "source": [
    "6a. Find the 4 element of the list.\n",
    "\n",
    "6b. What are the odd elements of list?\n",
    "\n",
    "6c. What are the even elements of the list?"
   ]
  },
  {
   "cell_type": "code",
   "execution_count": 110,
   "metadata": {},
   "outputs": [
    {
     "name": "stdout",
     "output_type": "stream",
     "text": [
      "12\n",
      "[3, 9, 15, 21]\n",
      "[6, 12, 18]\n"
     ]
    }
   ],
   "source": [
    "my_list = [3, 6, 9, 12, 15, 18, 21]\n",
    "\n",
    "print(my_list[3])\n",
    "print(my_list[::2])\n",
    "print(my_list[1::2])\n",
    "\n"
   ]
  },
  {
   "cell_type": "markdown",
   "metadata": {},
   "source": [
    "7. Create a new list that is composed by the even number of the two lists. "
   ]
  },
  {
   "cell_type": "code",
   "execution_count": 111,
   "metadata": {},
   "outputs": [
    {
     "name": "stdout",
     "output_type": "stream",
     "text": [
      "[6, 12, 18, 8, 16, 24]\n"
     ]
    }
   ],
   "source": [
    "my_list = [3, 6, 9, 12, 15, 18, 21]\n",
    "your_list = [4, 8, 12, 16, 20, 24, 28]\n",
    "\n",
    "odd = my_list[1::2]\n",
    "new_list = odd + your_list[1::2]\n",
    "print(new_list)"
   ]
  },
  {
   "cell_type": "markdown",
   "metadata": {},
   "source": [
    "8. Create a set that is the elements of each list together by index.\n",
    "It should look like this: {(3, 4), (6, 8), (9, 12), (12, 16),... }"
   ]
  },
  {
   "cell_type": "code",
   "execution_count": 116,
   "metadata": {},
   "outputs": [
    {
     "name": "stdout",
     "output_type": "stream",
     "text": [
      "{(3, 4), (12, 16), (6, 8), (9, 12), (21, 28), (15, 20), (18, 24)}\n"
     ]
    }
   ],
   "source": [
    "zipped = zip(my_list, your_list)\n",
    "print(set(zipped))"
   ]
  },
  {
   "cell_type": "markdown",
   "metadata": {},
   "source": [
    "9a. Find the lyrics to the song \"Born in the USA\" by Bruce Sprinsteen\n",
    "\n",
    "9b. Save the first verse as a string.\n",
    "\n",
    "9c. Save the chorus as another string.\n",
    "\n",
    "9d. Save the second verse as a string.\n",
    "\n",
    "9e. Create a list with all three strings. Name it \"song\""
   ]
  },
  {
   "cell_type": "code",
   "execution_count": null,
   "metadata": {},
   "outputs": [],
   "source": [
    "first = \"Born down in a dead man's town. The first kick I took was when I hit the ground. You end up like a dog. that's been beat too much. 'Til you spend half your life just covering up, now\"\n",
    "\n",
    "chorus = \"Born in the U.S.A. I was born in the U.S.A. I was born in the U.S.A. Born in the U.S.A.\"\n",
    "\n",
    "second = \"Got in a little hometown jam. So they put a rifle in my hand. Sent me off to a foreign land. To go and kill the yellow man\"\n",
    "\n",
    "song = [first, chorus, second]"
   ]
  },
  {
   "cell_type": "markdown",
   "metadata": {},
   "source": [
    "For question 10 - 12 you can only use list indexing to access the strings.\n",
    "\n",
    "10a. What is the length of the list?\n",
    "\n",
    "10b. What is the 9th character of the second verse?\n",
    "\n",
    "10c. How many times does the word \"man\" appear in the first verse?"
   ]
  },
  {
   "cell_type": "code",
   "execution_count": null,
   "metadata": {},
   "outputs": [],
   "source": [
    "print(len(song))\n",
    "print(song[2][9])\n",
    "print(song[0].count('man'))\n"
   ]
  },
  {
   "cell_type": "markdown",
   "metadata": {},
   "source": [
    "11. Replace \"U.S.A\" in the chorus with \"United Stated of America\"."
   ]
  },
  {
   "cell_type": "code",
   "execution_count": null,
   "metadata": {},
   "outputs": [],
   "source": [
    "song[1].replace(\"U.S.A\", \"United States of America\")"
   ]
  },
  {
   "cell_type": "markdown",
   "metadata": {},
   "source": [
    "12a. Split the first verse into a list of words.\n",
    "\n",
    "12b. How many words are in the first verse?"
   ]
  },
  {
   "cell_type": "code",
   "execution_count": null,
   "metadata": {},
   "outputs": [],
   "source": [
    "first_list = song[0].split(' ')\n",
    "len(first_list)"
   ]
  },
  {
   "cell_type": "markdown",
   "metadata": {},
   "source": [
    "13. Append the chorus again to the end of the song. "
   ]
  },
  {
   "cell_type": "code",
   "execution_count": null,
   "metadata": {},
   "outputs": [],
   "source": [
    "song = song.append(chorus)"
   ]
  },
  {
   "cell_type": "markdown",
   "metadata": {},
   "source": [
    "14. Oops! You made a mistake, you actually didn't want to append that. Remove the last chorus in the song list. "
   ]
  },
  {
   "cell_type": "code",
   "execution_count": null,
   "metadata": {},
   "outputs": [],
   "source": [
    "song.pop(3)\n",
    "song"
   ]
  },
  {
   "cell_type": "markdown",
   "metadata": {},
   "source": [
    "15a. Create a list with all the names of your imaginary pets. (You have 7)\n",
    "15b. What is the first name on the list? What is the last name on the list?"
   ]
  },
  {
   "cell_type": "code",
   "execution_count": 98,
   "metadata": {},
   "outputs": [
    {
     "name": "stdout",
     "output_type": "stream",
     "text": [
      "mikey\n",
      "bella\n"
     ]
    }
   ],
   "source": [
    "pets = ['mikey', 'fluffy', 'penny', 'bubbles', 'bolt', 'buddy', 'bella']\n",
    "print(pets[0])\n",
    "print(pets[-1])"
   ]
  },
  {
   "cell_type": "markdown",
   "metadata": {},
   "source": [
    "16a. Oops! You forgot your pet lizard Spike!! Please insert Spike as your 4th pet.\n",
    "\n",
    "16b. Actually, the 5th pet on your list, is your cousin's. Please remove them from the list."
   ]
  },
  {
   "cell_type": "code",
   "execution_count": 101,
   "metadata": {},
   "outputs": [
    {
     "data": {
      "text/plain": [
       "'bubbles'"
      ]
     },
     "execution_count": 101,
     "metadata": {},
     "output_type": "execute_result"
    }
   ],
   "source": [
    "pets.insert(3, 'spike')\n",
    "\n",
    "pets.pop(5)"
   ]
  },
  {
   "cell_type": "markdown",
   "metadata": {},
   "source": [
    "17. Now, order your pets in alphabetical order."
   ]
  },
  {
   "cell_type": "code",
   "execution_count": 103,
   "metadata": {},
   "outputs": [],
   "source": [
    "pets.sort()"
   ]
  },
  {
   "cell_type": "markdown",
   "metadata": {},
   "source": [
    "18. Can you try reverse alphabetical order?"
   ]
  },
  {
   "cell_type": "code",
   "execution_count": 105,
   "metadata": {},
   "outputs": [],
   "source": [
    "pets.reverse()"
   ]
  },
  {
   "cell_type": "markdown",
   "metadata": {},
   "source": [
    "19a. Create a dictionary that is the name of four countries in Latin America and their year of independence.\n",
    "\n",
    "19b. Print only the keys\n",
    "\n",
    "19c. Print only the values\n",
    "\n",
    "19d. Print all the key value pairs"
   ]
  },
  {
   "cell_type": "code",
   "execution_count": 119,
   "metadata": {},
   "outputs": [
    {
     "name": "stdout",
     "output_type": "stream",
     "text": [
      "dict_keys(['Haiti', 'Cuba', 'Argentina', 'Venezuela'])\n",
      "dict_values([1804, 1902, 1816, 1811])\n",
      "dict_items([('Haiti', 1804), ('Cuba', 1902), ('Argentina', 1816), ('Venezuela', 1811)])\n"
     ]
    }
   ],
   "source": [
    "countries = {'Haiti':1804, 'Cuba':1902, 'Argentina':1816, 'Venezuela':1811}\n",
    "\n",
    "print(countries.keys())\n",
    "print(countries.values())\n",
    "print(countries.items())"
   ]
  },
  {
   "cell_type": "markdown",
   "metadata": {},
   "source": [
    "20a. Delete the last country in the list\n",
    "\n",
    "20b. Add a this new value: {'Mexico':1810}"
   ]
  },
  {
   "cell_type": "code",
   "execution_count": 120,
   "metadata": {},
   "outputs": [],
   "source": [
    "del[countries['Venezuela']]\n",
    "print(countries)\n",
    "\n",
    "mexico = {'Mexico':1810}\n",
    "countries.update(mexico)"
   ]
  }
 ],
 "metadata": {
  "kernelspec": {
   "display_name": "Python 3",
   "language": "python",
   "name": "python3"
  },
  "language_info": {
   "codemirror_mode": {
    "name": "ipython",
    "version": 3
   },
   "file_extension": ".py",
   "mimetype": "text/x-python",
   "name": "python",
   "nbconvert_exporter": "python",
   "pygments_lexer": "ipython3",
   "version": "3.9.6"
  },
  "orig_nbformat": 4
 },
 "nbformat": 4,
 "nbformat_minor": 2
}
