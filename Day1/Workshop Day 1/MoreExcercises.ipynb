{
 "cells": [
  {
   "cell_type": "markdown",
   "metadata": {},
   "source": [
    "1. Create a string that has every letter of the alphabet, and save it a variable named \"aleph\""
   ]
  },
  {
   "cell_type": "code",
   "execution_count": null,
   "metadata": {},
   "outputs": [],
   "source": [
    "# your code here\n",
    "\n",
    "aleph = "
   ]
  },
  {
   "cell_type": "markdown",
   "metadata": {},
   "source": [
    "2. What is the length of the aleph string?"
   ]
  },
  {
   "cell_type": "code",
   "execution_count": null,
   "metadata": {},
   "outputs": [],
   "source": [
    "# your code here"
   ]
  },
  {
   "cell_type": "markdown",
   "metadata": {},
   "source": [
    "3a. What is the first character?\n",
    "\n",
    "3b. Which character is in the middle index? (Hint: for even numbers use /, for odd numbers use //)"
   ]
  },
  {
   "cell_type": "code",
   "execution_count": null,
   "metadata": {},
   "outputs": [],
   "source": [
    "# your code here"
   ]
  },
  {
   "cell_type": "markdown",
   "metadata": {},
   "source": [
    "3c. Create a new string made of the middle three characters of the aleph string. Name it \"middle\""
   ]
  },
  {
   "cell_type": "code",
   "execution_count": null,
   "metadata": {},
   "outputs": [],
   "source": [
    "# your code here"
   ]
  },
  {
   "cell_type": "markdown",
   "metadata": {},
   "source": [
    "4a. Create a string with your name last name. Save it as \"name\".\n",
    "\n",
    "4b. Create another string with your middle name. Save it as \"middle\" (If you don't have one, make one up)\n",
    "\n",
    "4c. Find the index of the space between your first name and last name. Save that as idx.\n",
    "\n",
    "4d. Append your middle name in the write place of your first name string.\n",
    "\n",
    "Question: What is missing? How can we solve it?"
   ]
  },
  {
   "cell_type": "code",
   "execution_count": null,
   "metadata": {},
   "outputs": [],
   "source": [
    "# your code here"
   ]
  },
  {
   "cell_type": "markdown",
   "metadata": {},
   "source": [
    "5a. Set all the letters to lower case in the text below.\n",
    "\n",
    "5b. Now set them all to upper case.\n",
    "\n",
    "5c. Find all the times the letter t occurs in the text."
   ]
  },
  {
   "cell_type": "code",
   "execution_count": 1,
   "metadata": {},
   "outputs": [],
   "source": [
    "text = '''Good morning everyone!\n",
    "        Today is September 3, and this is...\n",
    "        the first time using a jupyter notebook for me :)\n",
    "        I hope it's going well <3.'''\n",
    "        \n",
    "# your code here"
   ]
  },
  {
   "cell_type": "markdown",
   "metadata": {},
   "source": [
    "6a. Find the 4 element of the list.\n",
    "\n",
    "6b. What are the odd elements of list?\n",
    "\n",
    "6c. What are the even elements of the list?"
   ]
  },
  {
   "cell_type": "code",
   "execution_count": null,
   "metadata": {},
   "outputs": [],
   "source": [
    "my_list = [3, 6, 9, 12, 15, 18, 21]\n",
    "\n",
    "# your code here\n"
   ]
  },
  {
   "cell_type": "markdown",
   "metadata": {},
   "source": [
    "7. Create a new list that is composed by the even number of the two lists. "
   ]
  },
  {
   "cell_type": "code",
   "execution_count": null,
   "metadata": {},
   "outputs": [],
   "source": [
    "my_list = [3, 6, 9, 12, 15, 18, 21]\n",
    "your_list = [4, 8, 12, 16, 20, 24, 28]\n",
    "\n",
    "# your code here"
   ]
  },
  {
   "cell_type": "markdown",
   "metadata": {},
   "source": [
    "8. Create a set that is the elements of each list together by index.\n",
    "It should look like this: {(3, 4), (6, 8), (9, 12), (12, 16),... }"
   ]
  },
  {
   "cell_type": "code",
   "execution_count": null,
   "metadata": {},
   "outputs": [],
   "source": [
    "# your code here"
   ]
  },
  {
   "cell_type": "markdown",
   "metadata": {},
   "source": [
    "9a. Find the lyrics to the song \"Born in the USA\" by Bruce Sprinsteen\n",
    "\n",
    "9b. Save the first verse as a string.\n",
    "\n",
    "9c. Save the chorus as another string.\n",
    "\n",
    "9d. Save the second verse as a string.\n",
    "\n",
    "9e. Create a list with all three strings. Name it \"song\""
   ]
  },
  {
   "cell_type": "code",
   "execution_count": null,
   "metadata": {},
   "outputs": [],
   "source": [
    "# your code here"
   ]
  },
  {
   "cell_type": "markdown",
   "metadata": {},
   "source": [
    "For question 10 - 12 you can only use list indexing to access the strings.\n",
    "\n",
    "10a. What is the length of the list?\n",
    "\n",
    "10b. What is the 9th character of the second verse?\n",
    "\n",
    "10c. How many times does the word \"man\" appear in the first verse?"
   ]
  },
  {
   "cell_type": "code",
   "execution_count": null,
   "metadata": {},
   "outputs": [],
   "source": [
    "# your code here"
   ]
  },
  {
   "cell_type": "markdown",
   "metadata": {},
   "source": [
    "11. Replace \"U.S.A\" in the chorus with \"United Stated of America\"."
   ]
  },
  {
   "cell_type": "code",
   "execution_count": null,
   "metadata": {},
   "outputs": [],
   "source": [
    "# your code here"
   ]
  },
  {
   "cell_type": "markdown",
   "metadata": {},
   "source": [
    "12a. Split the first verse into a list of words.\n",
    "\n",
    "12b. How many words are in the first verse?"
   ]
  },
  {
   "cell_type": "code",
   "execution_count": null,
   "metadata": {},
   "outputs": [],
   "source": [
    "# your code here"
   ]
  },
  {
   "cell_type": "markdown",
   "metadata": {},
   "source": [
    "13. Append the chorus again to the end of the song. "
   ]
  },
  {
   "cell_type": "code",
   "execution_count": null,
   "metadata": {},
   "outputs": [],
   "source": [
    "# your code here"
   ]
  },
  {
   "cell_type": "markdown",
   "metadata": {},
   "source": [
    "14. Oops! You made a mistake, you actually didn't want to append that. Remove the last chorus in the song list. "
   ]
  },
  {
   "cell_type": "code",
   "execution_count": null,
   "metadata": {},
   "outputs": [],
   "source": [
    "# your code here"
   ]
  },
  {
   "cell_type": "markdown",
   "metadata": {},
   "source": [
    "16a. Oops! You forgot your pet lizard Spike!! Please insert Spike as your 4th pet.\n",
    "\n",
    "16b. Actually, the 5th pet on your list, is your cousin's. Please remove them from the list."
   ]
  },
  {
   "cell_type": "code",
   "execution_count": null,
   "metadata": {},
   "outputs": [],
   "source": [
    "# your code here"
   ]
  },
  {
   "cell_type": "markdown",
   "metadata": {},
   "source": [
    "17. Now, order your pets in alphabetical order."
   ]
  },
  {
   "cell_type": "code",
   "execution_count": null,
   "metadata": {},
   "outputs": [],
   "source": [
    "# your code here"
   ]
  },
  {
   "cell_type": "markdown",
   "metadata": {},
   "source": [
    "18. Can you try reverse alphabetical order?"
   ]
  },
  {
   "cell_type": "code",
   "execution_count": null,
   "metadata": {},
   "outputs": [],
   "source": [
    "# your code here"
   ]
  },
  {
   "cell_type": "markdown",
   "metadata": {},
   "source": [
    "19a. Create a dictionary that is the name of four countries in Latin America and their year of independence.\n",
    "\n",
    "19b. Print only the keys\n",
    "\n",
    "19c. Print only the values\n",
    "\n",
    "19d. Print all the key value pairs"
   ]
  },
  {
   "cell_type": "code",
   "execution_count": null,
   "metadata": {},
   "outputs": [],
   "source": [
    "# your code here"
   ]
  },
  {
   "cell_type": "markdown",
   "metadata": {},
   "source": [
    "20a. Delete the last country in the list\n",
    "20b. Add a this new value: {'Mexico':1810}"
   ]
  },
  {
   "cell_type": "code",
   "execution_count": null,
   "metadata": {},
   "outputs": [],
   "source": [
    "# your code here"
   ]
  }
 ],
 "metadata": {
  "kernelspec": {
   "display_name": "Python 3",
   "language": "python",
   "name": "python3"
  },
  "language_info": {
   "codemirror_mode": {
    "name": "ipython",
    "version": 3
   },
   "file_extension": ".py",
   "mimetype": "text/x-python",
   "name": "python",
   "nbconvert_exporter": "python",
   "pygments_lexer": "ipython3",
   "version": "3.9.6"
  },
  "orig_nbformat": 4
 },
 "nbformat": 4,
 "nbformat_minor": 2
}
